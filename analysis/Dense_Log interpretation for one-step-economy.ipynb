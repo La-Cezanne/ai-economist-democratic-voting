{
 "cells": [
  {
   "cell_type": "code",
   "execution_count": 1,
   "id": "b9fc97c2",
   "metadata": {},
   "outputs": [],
   "source": [
    "import os\n",
    "import json\n",
    "import pickle\n",
    "import numpy as np"
   ]
  },
  {
   "cell_type": "code",
   "execution_count": 2,
   "id": "b8a33d1e",
   "metadata": {},
   "outputs": [],
   "source": [
    "def process_dense_logs_of_run(run_dir, verbose=True):\n",
    "    \"\"\"Process the dense logs from this run directory.\"\"\"\n",
    "    \n",
    "    if not os.path.isdir(run_dir):\n",
    "        raise FileNotFoundError(\"The run directory does not exist.\")\n",
    "        \n",
    "    logs_dir = run_dir\n",
    "    if not os.path.isdir(logs_dir):\n",
    "        raise FileNotFoundError('There do not appear to be any paper logs in this run directory.')\n",
    "    paper_log_filenames = os.listdir(logs_dir)\n",
    "    paper_log_filenames = sorted(paper_log_filenames)\n",
    "\n",
    "    if verbose:\n",
    "        print('Processing {} dense logs from {}'.format(len(paper_log_filenames), run_dir))\n",
    "    \n",
    "    episode_dicts = []\n",
    "    for file in paper_log_filenames:\n",
    "        log_path = os.path.join(logs_dir, file)\n",
    "        with open(log_path, 'r') as f:\n",
    "            log = json.load(f)\n",
    "        episode_dicts.append(\n",
    "            log\n",
    "        )\n",
    "        \n",
    "    return episode_dicts"
   ]
  },
  {
   "cell_type": "code",
   "execution_count": 4,
   "id": "cd9a2b0f",
   "metadata": {},
   "outputs": [
    {
     "name": "stdout",
     "output_type": "stream",
     "text": [
      "Processing 4 dense logs from new_analysis/one-step-economy/ai-economist-considerate-democracy/purely_egoistic/dense_logs/logs_0000000013600000\n",
      "{'DemocraticPeriodicBracketTax.TaxIndexBracket_000': 21, 'DemocraticPeriodicBracketTax.TaxIndexBracket_097': 6, 'DemocraticPeriodicBracketTax.TaxIndexBracket_394': 15, 'DemocraticPeriodicBracketTax.TaxIndexBracket_842': 18, 'DemocraticPeriodicBracketTax.TaxIndexBracket_1607': 2, 'DemocraticPeriodicBracketTax.TaxIndexBracket_2041': 20, 'DemocraticPeriodicBracketTax.TaxIndexBracket_5103': 6}\n",
      "{'loc': [-1, -1], 'inventory': {'Coin': 542.2083082434447}, 'escrow': {'Coin': 0}, 'endogenous': {'Labor': 52}, 'skill': 3.6445162403735316, 'production': 189.51484449942365}\n",
      "\n",
      "{'DemocraticPeriodicBracketTax.TaxIndexBracket_000': 6, 'DemocraticPeriodicBracketTax.TaxIndexBracket_097': 12, 'DemocraticPeriodicBracketTax.TaxIndexBracket_394': 20, 'DemocraticPeriodicBracketTax.TaxIndexBracket_842': 13, 'DemocraticPeriodicBracketTax.TaxIndexBracket_1607': 8, 'DemocraticPeriodicBracketTax.TaxIndexBracket_5103': 9}\n",
      "{'loc': [-1, -1], 'inventory': {'Coin': 2704.4953949912474}, 'escrow': {'Coin': 0}, 'endogenous': {'Labor': 42}, 'skill': 80.39123830946464, 'production': 3376.432008997515}\n"
     ]
    }
   ],
   "source": [
    "logs = process_dense_logs_of_run(\"new_analysis/one-step-economy/ai-economist-considerate-democracy/purely_egoistic/dense_logs/logs_0000000013600000\")\n",
    "\n",
    "print(logs[0][\"actions\"][0][\"0\"])\n",
    "print(logs[0][\"states\"][2][\"0\"])\n",
    "print()\n",
    "print(logs[0][\"actions\"][0][\"8\"])\n",
    "print(logs[0][\"states\"][2][\"8\"])"
   ]
  },
  {
   "cell_type": "code",
   "execution_count": 113,
   "id": "70c2f23a",
   "metadata": {},
   "outputs": [
    {
     "name": "stdout",
     "output_type": "stream",
     "text": [
      "Processing 4 dense logs from new_analysis/one-step-economy/ai-economist-considerate-democracy\\purely_egoistic\\dense_logs\\logs_0000000001000000\n",
      "{'DemocraticPeriodicBracketTax.TaxIndexBracket_000': 4, 'DemocraticPeriodicBracketTax.TaxIndexBracket_097': 11, 'DemocraticPeriodicBracketTax.TaxIndexBracket_394': 21, 'DemocraticPeriodicBracketTax.TaxIndexBracket_842': 11, 'DemocraticPeriodicBracketTax.TaxIndexBracket_1607': 4, 'DemocraticPeriodicBracketTax.TaxIndexBracket_5103': 6}\n",
      "{'loc': [-1, -1], 'inventory': {'Coin': 720.8578594164327}, 'escrow': {'Coin': 0}, 'endogenous': {'Labor': 48}, 'skill': 3.6445162403735316, 'production': 174.9367795379295}\n",
      "\n",
      "{'DemocraticPeriodicBracketTax.TaxIndexBracket_000': 14, 'DemocraticPeriodicBracketTax.TaxIndexBracket_097': 7, 'DemocraticPeriodicBracketTax.TaxIndexBracket_394': 19, 'DemocraticPeriodicBracketTax.TaxIndexBracket_842': 15, 'DemocraticPeriodicBracketTax.TaxIndexBracket_1607': 12, 'DemocraticPeriodicBracketTax.TaxIndexBracket_2041': 10, 'DemocraticPeriodicBracketTax.TaxIndexBracket_5103': 15}\n",
      "{'loc': [-1, -1], 'inventory': {'Coin': 1803.9393527421144}, 'escrow': {'Coin': 0}, 'endogenous': {'Labor': 40}, 'skill': 80.39123830946464, 'production': 3215.6495323785857}\n"
     ]
    }
   ],
   "source": [
    "logs = process_dense_logs_of_run(\"new_analysis/one-step-economy/ai-economist-considerate-democracy\\purely_egoistic\\dense_logs\\logs_0000000001000000\")\n",
    "\n",
    "print(logs[0][\"actions\"][0][\"0\"])\n",
    "print(logs[0][\"states\"][2][\"0\"])\n",
    "print()\n",
    "print(logs[0][\"actions\"][0][\"8\"])\n",
    "print(logs[0][\"states\"][2][\"8\"])"
   ]
  },
  {
   "cell_type": "code",
   "execution_count": 5,
   "id": "52e3ff92",
   "metadata": {},
   "outputs": [
    {
     "name": "stdout",
     "output_type": "stream",
     "text": [
      "skill: 3.6445162403735316\n",
      "Labor: 52\n",
      "Income: 189.51484449942365\n",
      "TaxIndexBracket_000: 1.05\n",
      "Reward: 35.23895450300404\n",
      "\n",
      "skill: 6.60334465372697\n",
      "Labor: 20\n",
      "Income: 132.0668930745394\n",
      "TaxIndexBracket_000: 0.4\n",
      "Reward: 495.5957887110043\n",
      "\n",
      "skill: 10.232073607375565\n",
      "Labor: 15\n",
      "Income: 153.48110411063348\n",
      "Reward: 517.6557786523246\n",
      "\n",
      "skill: 14.067506285041919\n",
      "Labor: 25\n",
      "Income: 351.68765712604795\n",
      "TaxIndexBracket_000: 0.7000000000000001\n",
      "Reward: 584.2322145567568\n",
      "\n",
      "skill: 19.185240575116847\n",
      "Labor: 52\n",
      "Income: 997.632509906076\n",
      "TaxIndexBracket_000: 0.7000000000000001\n",
      "Reward: 401.3720362157227\n",
      "\n",
      "skill: 25.779612687096844\n",
      "Labor: 17\n",
      "Income: 438.25341568064636\n",
      "TaxIndexBracket_000: 0.9\n",
      "Reward: 654.2740140806939\n",
      "\n",
      "skill: 35.34902812345167\n",
      "Labor: 32\n",
      "Income: 1131.1688999504534\n",
      "TaxIndexBracket_000: 0.05\n",
      "Reward: 869.0740459502309\n",
      "\n",
      "skill: 50.48055438466788\n",
      "Labor: 48\n",
      "Income: 2423.0666104640586\n",
      "TaxIndexBracket_000: 0.4\n",
      "Reward: 1368.0280706364767\n",
      "\n",
      "skill: 80.39123830946464\n",
      "Labor: 42\n",
      "Income: 3376.432008997515\n",
      "TaxIndexBracket_000: 0.30000000000000004\n",
      "Reward: 2464.4228365594267\n",
      "\n"
     ]
    }
   ],
   "source": [
    "# print(str((logs[0][\"actions\"][0][\"2\"])))\n",
    "\n",
    "for i in range(9):\n",
    "    print(\"skill: \" + str(logs[0][\"states\"][2][str(i)]['skill']))\n",
    "    print(\"Labor: \" + str(logs[0][\"states\"][2][str(i)]['endogenous']['Labor']))\n",
    "    print(\"Income: \" + str(logs[0]['PeriodicTax'][1][str(i)]['income']))\n",
    "    if ('DemocraticPeriodicBracketTax.TaxIndexBracket_000' in logs[0][\"actions\"][0][str(i)].keys()):\n",
    "        print(\"TaxIndexBracket_000: \" + str((logs[0][\"actions\"][0][str(i)]['DemocraticPeriodicBracketTax.TaxIndexBracket_000']*0.05)))\n",
    "    if ('DemocraticPeriodicBracketTax.TaxIndexBracket_1000' in logs[0][\"actions\"][0][str(i)].keys()):\n",
    "        print(\"TaxIndexBracket_1000: \" + str((logs[0][\"actions\"][0][str(i)]['DemocraticPeriodicBracketTax.TaxIndexBracket_1000']*0.05)))\n",
    "    print(\"Reward: \" + str(logs[0]['rewards'][1][str(i)]))\n",
    "    print()"
   ]
  },
  {
   "cell_type": "code",
   "execution_count": 9,
   "id": "98cc5a48",
   "metadata": {},
   "outputs": [
    {
     "data": {
      "text/plain": [
       "{'schedule': [0.5, 0.4, 0.4, 0.6000000000000001, 0.45, 0.0, 0.55],\n",
       " 'cutoffs': [0.0, 97.0, 394.75, 842.0, 1607.25, 2041.0, 5103.0],\n",
       " '0': {'income': 97.90076078996351,\n",
       "  'tax_paid': 48.8603043159854,\n",
       "  'marginal_rate': 0.4,\n",
       "  'effective_rate': 0.49907992462704553,\n",
       "  'lump_sum': 413.1904576231975},\n",
       " '1': {'income': 95.41753388976764,\n",
       "  'tax_paid': 47.70876694488382,\n",
       "  'marginal_rate': 0.5,\n",
       "  'effective_rate': 0.5,\n",
       "  'lump_sum': 413.1904576231975},\n",
       " '2': {'income': 241.03074490808652,\n",
       "  'tax_paid': 106.11229796323461,\n",
       "  'marginal_rate': 0.4,\n",
       "  'effective_rate': 0.4402438286605261,\n",
       "  'lump_sum': 413.1904576231975},\n",
       " '3': {'income': 280.5918626314089,\n",
       "  'tax_paid': 121.93674505256357,\n",
       "  'marginal_rate': 0.4,\n",
       "  'effective_rate': 0.4345697837030367,\n",
       "  'lump_sum': 413.1904576231975},\n",
       " '4': {'income': 517.6804971357734,\n",
       "  'tax_paid': 216.77219885430938,\n",
       "  'marginal_rate': 0.4,\n",
       "  'effective_rate': 0.41873742598700986,\n",
       "  'lump_sum': 413.1904576231975},\n",
       " '5': {'income': 1268.0644599046132,\n",
       "  'tax_paid': 602.1386759427679,\n",
       "  'marginal_rate': 0.6000000000000001,\n",
       "  'effective_rate': 0.47484863347409184,\n",
       "  'lump_sum': 413.1904576231975},\n",
       " '6': {'income': 2000.2429773501322,\n",
       "  'tax_paid': 982.4968398075596,\n",
       "  'marginal_rate': 0.45,\n",
       "  'effective_rate': 0.4911887460338168,\n",
       "  'lump_sum': 413.1904576231975},\n",
       " '7': {'income': 1250.9179828791227,\n",
       "  'tax_paid': 591.8507897274737,\n",
       "  'marginal_rate': 0.6000000000000001,\n",
       "  'effective_rate': 0.4731331692628363,\n",
       "  'lump_sum': 413.1904576231975},\n",
       " '8': {'income': 4302.179056524768,\n",
       "  'tax_paid': 1000.8375000000001,\n",
       "  'marginal_rate': 0.0,\n",
       "  'effective_rate': 0.23263501747611143,\n",
       "  'lump_sum': 413.1904576231975}}"
      ]
     },
     "metadata": {},
     "output_type": "display_data"
    }
   ],
   "source": [
    "display(logs[2]['PeriodicTax'][1])\n",
    "\n",
    "# display(logs[0]['rewards'])"
   ]
  },
  {
   "cell_type": "code",
   "execution_count": null,
   "id": "d8320d6d",
   "metadata": {},
   "outputs": [],
   "source": []
  }
 ],
 "metadata": {
  "kernelspec": {
   "display_name": "Python 3",
   "language": "python",
   "name": "python3"
  },
  "language_info": {
   "codemirror_mode": {
    "name": "ipython",
    "version": 3
   },
   "file_extension": ".py",
   "mimetype": "text/x-python",
   "name": "python",
   "nbconvert_exporter": "python",
   "pygments_lexer": "ipython3",
   "version": "3.7.1"
  }
 },
 "nbformat": 4,
 "nbformat_minor": 5
}
